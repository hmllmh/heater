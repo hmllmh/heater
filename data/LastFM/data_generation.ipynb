{
 "cells": [
  {
   "cell_type": "code",
   "execution_count": 1,
   "metadata": {},
   "outputs": [],
   "source": [
    "import pandas as pd\n",
    "import numpy as np\n",
    "import copy\n",
    "import pickle"
   ]
  },
  {
   "cell_type": "code",
   "execution_count": 2,
   "metadata": {},
   "outputs": [],
   "source": [
    "df = pd.read_csv('./user_artists.dat', delimiter=\"\\t\", header=0, dtype=np.int32)\n",
    "df.drop(['weight'], axis=1, inplace=True)\n",
    "user_list = np.unique(df['userID'])\n",
    "item_list = np.unique(df['artistID'])\n",
    "df.rename(columns={'userID': 'uid', 'artistID': 'iid'}, inplace=True)"
   ]
  },
  {
   "cell_type": "code",
   "execution_count": 3,
   "metadata": {},
   "outputs": [],
   "source": [
    "np.random.shuffle(user_list)\n",
    "userId_old2new_list = np.zeros(np.max(user_list) + 1)\n",
    "userId_new2old_list = np.zeros_like(user_list)\n",
    "i = 0\n",
    "for u in user_list:\n",
    "    userId_old2new_list[u] = i\n",
    "    userId_new2old_list[i] = u\n",
    "    i += 1\n",
    "\n",
    "np.random.shuffle(item_list)\n",
    "itemId_old2new_list = np.zeros(np.max(item_list) + 1)\n",
    "itemId_new2old_list = np.zeros_like(item_list)\n",
    "j = 0\n",
    "for i in item_list:\n",
    "    itemId_old2new_list[i] = j\n",
    "    itemId_new2old_list[j] = i\n",
    "    j += 1"
   ]
  },
  {
   "cell_type": "code",
   "execution_count": 4,
   "metadata": {},
   "outputs": [],
   "source": [
    "u_array = df['uid'].values\n",
    "i_array = df['iid'].values\n",
    "u_array_new = userId_old2new_list[u_array]\n",
    "i_array_new = itemId_old2new_list[i_array]\n",
    "df['uid'] = u_array_new\n",
    "df['iid'] = i_array_new"
   ]
  },
  {
   "cell_type": "code",
   "execution_count": 5,
   "metadata": {},
   "outputs": [],
   "source": [
    "user_list = np.unique(df['uid'].values)\n",
    "cold_user = np.random.choice(user_list, int(len(user_list) * 0.4), replace=False)\n",
    "warm_user = np.array(list(set(user_list) - set(cold_user)))"
   ]
  },
  {
   "cell_type": "code",
   "execution_count": 6,
   "metadata": {},
   "outputs": [],
   "source": [
    "test_df = copy.copy(df)\n",
    "test_df = test_df[test_df['uid'].isin(cold_user)]"
   ]
  },
  {
   "cell_type": "code",
   "execution_count": 8,
   "metadata": {},
   "outputs": [],
   "source": [
    "train = df[df['uid'].isin(warm_user)]"
   ]
  },
  {
   "cell_type": "code",
   "execution_count": 9,
   "metadata": {},
   "outputs": [],
   "source": [
    "vali_user = np.random.choice(cold_user, int(len(cold_user) * 0.25), replace=False)\n",
    "test_user = np.array(list(set(cold_user) - set(vali_user)))"
   ]
  },
  {
   "cell_type": "code",
   "execution_count": 10,
   "metadata": {},
   "outputs": [],
   "source": [
    "vali_df = copy.copy(test_df)\n",
    "vali_df = vali_df[vali_df['uid'].isin(vali_user)]\n",
    "test_df = test_df[test_df['uid'].isin(test_user)]\n",
    "train.reset_index(drop=True, inplace=True)\n",
    "vali_df.reset_index(drop=True, inplace=True)\n",
    "test_df.reset_index(drop=True, inplace=True)"
   ]
  },
  {
   "cell_type": "code",
   "execution_count": 13,
   "metadata": {},
   "outputs": [
    {
     "name": "stdout",
     "output_type": "stream",
     "text": [
      "total number of user = 1892\n",
      "total number of item = 17632\n",
      "####################\n",
      "train\n",
      "number of user = 1136\n",
      "number of item = 12850\n",
      "number of interaction = 55810\n",
      "####################\n",
      "vali\n",
      "number of user = 189\n",
      "number of item = 3943\n",
      "number of interaction = 9209\n",
      "####################\n",
      "test\n",
      "number of user = 567\n",
      "number of item = 8462\n",
      "number of interaction = 27815\n"
     ]
    }
   ],
   "source": [
    "print('total number of user = ' + str(len(user_list)))\n",
    "print('total number of item = ' + str(len(item_list)))\n",
    "print('#' * 20)\n",
    "print('train')\n",
    "print('number of user = ' + str(len(train['uid'].unique())))\n",
    "print('number of item = ' + str(len(train['iid'].unique())))\n",
    "print('number of interaction = ' + str(len(train)))\n",
    "print('#' * 20)\n",
    "print('vali')\n",
    "print('number of user = ' + str(len(vali_df['uid'].unique())))\n",
    "print('number of item = ' + str(len(vali_df['iid'].unique())))\n",
    "print('number of interaction = ' + str(len(vali_df)))\n",
    "print('#' * 20)\n",
    "print('test')\n",
    "print('number of user = ' + str(len(test_df['uid'].unique())))\n",
    "print('number of item = ' + str(len(test_df['iid'].unique())))\n",
    "print('number of interaction = ' + str(len(test_df)))"
   ]
  },
  {
   "cell_type": "code",
   "execution_count": 14,
   "metadata": {},
   "outputs": [],
   "source": [
    "with open('./info.pkl', 'wb') as f:\n",
    "    pickle.dump({'num_user': len(user_list), 'num_item': len(item_list)}, f)"
   ]
  },
  {
   "cell_type": "code",
   "execution_count": 15,
   "metadata": {},
   "outputs": [],
   "source": [
    "train.to_csv('./train.csv', index=False)\n",
    "vali_df.to_csv('./vali.csv', index=False)\n",
    "test_df.to_csv('./test.csv', index=False)"
   ]
  },
  {
   "cell_type": "code",
   "execution_count": 16,
   "metadata": {},
   "outputs": [],
   "source": [
    "friend_df = pd.read_csv('./user_friends.dat', delimiter=\"\\t\", header=0, dtype=np.int32)\n",
    "user_array = friend_df['userID'].values\n",
    "friend_array = friend_df['friendID'].values\n",
    "user_array_new = userId_old2new_list[user_array]\n",
    "friend_array_new = userId_old2new_list[friend_array]\n",
    "friend_df['userID'] = user_array_new\n",
    "friend_df['friendID'] = friend_array_new"
   ]
  },
  {
   "cell_type": "code",
   "execution_count": 19,
   "metadata": {},
   "outputs": [],
   "source": [
    "from scipy.sparse import coo_matrix\n",
    "row  = friend_df['userID'].values\n",
    "col  = friend_df['friendID'].values\n",
    "coo = coo_matrix((np.ones_like(row), (row, col)), \n",
    "                 shape=(len(user_list), len(user_list)))"
   ]
  },
  {
   "cell_type": "code",
   "execution_count": 20,
   "metadata": {},
   "outputs": [],
   "source": [
    "import scipy.sparse\n",
    "scipy.sparse.save_npz('./user_content.npz', coo)"
   ]
  },
  {
   "cell_type": "code",
   "execution_count": null,
   "metadata": {},
   "outputs": [],
   "source": []
  },
  {
   "cell_type": "code",
   "execution_count": null,
   "metadata": {},
   "outputs": [],
   "source": [
    "import implicit\n",
    "\n",
    "model = implicit.als.AlternatingLeastSquares(factors=200)\n",
    "\n",
    "model.fit(item_user_data)"
   ]
  }
 ],
 "metadata": {
  "kernelspec": {
   "display_name": "Python 3",
   "language": "python",
   "name": "python3"
  },
  "language_info": {
   "codemirror_mode": {
    "name": "ipython",
    "version": 3
   },
   "file_extension": ".py",
   "mimetype": "text/x-python",
   "name": "python",
   "nbconvert_exporter": "python",
   "pygments_lexer": "ipython3",
   "version": "3.7.7"
  }
 },
 "nbformat": 4,
 "nbformat_minor": 2
}
