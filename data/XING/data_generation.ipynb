{
 "cells": [
  {
   "cell_type": "code",
   "execution_count": 1,
   "metadata": {},
   "outputs": [],
   "source": [
    "import pandas as pd\n",
    "import numpy as np\n",
    "import copy\n",
    "import pickle\n",
    "from sklearn import datasets"
   ]
  },
  {
   "cell_type": "code",
   "execution_count": 2,
   "metadata": {},
   "outputs": [],
   "source": [
    "train = pd.read_csv('./train_old.csv', delimiter=\",\", header=-1, dtype=np.int32)\n",
    "train.drop(2, axis=1, inplace=True)\n",
    "train.drop(3, axis=1, inplace=True)\n",
    "train[0] = train[0] - 1\n",
    "train[1] = train[1] - 1\n",
    "train.rename(columns={0: 'uid', 1: 'iid'}, inplace=True)"
   ]
  },
  {
   "cell_type": "code",
   "execution_count": 3,
   "metadata": {},
   "outputs": [],
   "source": [
    "data_path = '.'\n",
    "user_content_file = data_path + '/user_features.txt'\n",
    "item_content_file = data_path + '/item_features.txt'\n",
    "num_user = 1497020\n",
    "num_item = 1306054"
   ]
  },
  {
   "cell_type": "code",
   "execution_count": 18,
   "metadata": {},
   "outputs": [
    {
     "name": "stdout",
     "output_type": "stream",
     "text": [
      "30\n"
     ]
    }
   ],
   "source": [
    "train['freq'] = train.groupby('uid')['uid'].transform('count')\n",
    "train.drop(train.index[train['freq'] < 30], inplace=True)\n",
    "train['freq'] = train.groupby('iid')['iid'].transform('count')\n",
    "train.drop(train.index[train['freq'] < 30], inplace=True)\n",
    "train['freq'] = train.groupby('uid')['uid'].transform('count')\n",
    "print(train['freq'].min())\n",
    "train.drop(['freq'], axis=1, inplace=True)"
   ]
  },
  {
   "cell_type": "code",
   "execution_count": 19,
   "metadata": {},
   "outputs": [
    {
     "name": "stdout",
     "output_type": "stream",
     "text": [
      "number of user = 106881\n",
      "number of item = 20519\n",
      "number of interaction = 4306183\n",
      "sparsity = 0.001963522047520249\n"
     ]
    }
   ],
   "source": [
    "train.reset_index(drop=True, inplace=True)\n",
    "print('number of user = ' + str(len(train['uid'].unique())))\n",
    "print('number of item = ' + str(len(train['iid'].unique())))\n",
    "print('number of interaction = ' + str(len(train)))\n",
    "print('sparsity = ' + str(len(train) * 1.0 / (len(train['uid'].unique()) * len(train['iid'].unique()))))"
   ]
  },
  {
   "cell_type": "code",
   "execution_count": 20,
   "metadata": {},
   "outputs": [],
   "source": [
    "user_list = np.unique(train['uid'].values)\n",
    "item_list = np.unique(train['iid'].values)\n",
    "cold_user = np.random.choice(user_list, int(len(user_list) * 0.4), replace=False)\n",
    "cold_item = np.random.choice(item_list, int(len(item_list) * 0.4), replace=False)\n",
    "warm_user = np.array(list(set(user_list) - set(cold_user)))\n",
    "warm_item = np.array(list(set(item_list) - set(cold_item)))"
   ]
  },
  {
   "cell_type": "code",
   "execution_count": 21,
   "metadata": {},
   "outputs": [],
   "source": [
    "test_item_df = copy.copy(train)\n",
    "test_user_df = copy.copy(train)\n",
    "test_user_item_df = copy.copy(train)\n",
    "test_item_df = test_item_df[test_item_df['iid'].isin(cold_item) \n",
    "                            & test_item_df['uid'].isin(warm_user)]\n",
    "test_user_df = test_user_df[test_user_df['uid'].isin(cold_user) \n",
    "                            & test_user_df['iid'].isin(warm_item)]\n",
    "test_user_item_df = test_user_item_df[test_user_item_df['uid'].isin(cold_user)\n",
    "                                      & test_user_item_df['iid'].isin(cold_item)]"
   ]
  },
  {
   "cell_type": "code",
   "execution_count": 22,
   "metadata": {},
   "outputs": [],
   "source": [
    "train = train[train['iid'].isin(warm_item) & train['uid'].isin(warm_user)]"
   ]
  },
  {
   "cell_type": "code",
   "execution_count": 23,
   "metadata": {},
   "outputs": [],
   "source": [
    "vali_cold_user = np.random.choice(cold_user, int(len(cold_user) * 0.25), replace=False)\n",
    "vali_cold_item = np.random.choice(cold_item, int(len(cold_item) * 0.25), replace=False)\n",
    "test_cold_user = np.array(list(set(cold_user) - set(vali_cold_user)))\n",
    "test_cold_item = np.array(list(set(cold_item) - set(vali_cold_item)))"
   ]
  },
  {
   "cell_type": "code",
   "execution_count": 24,
   "metadata": {},
   "outputs": [],
   "source": [
    "vali_item_df = copy.copy(test_item_df)\n",
    "vali_user_df = copy.copy(test_user_df)\n",
    "vali_user_item_df = copy.copy(test_user_item_df)\n",
    "vali_item_df = vali_item_df[vali_item_df['iid'].isin(vali_cold_item)\n",
    "                            & vali_item_df['uid'].isin(warm_user)]\n",
    "vali_user_df = vali_user_df[vali_user_df['uid'].isin(vali_cold_user) \n",
    "                            & vali_user_df['iid'].isin(warm_item)]\n",
    "vali_user_item_df = vali_user_item_df[vali_user_item_df['uid'].isin(vali_cold_user)\n",
    "                                      & vali_user_item_df['iid'].isin(vali_cold_item)]\n",
    "\n",
    "test_item_df = test_item_df[test_item_df['iid'].isin(test_cold_item)\n",
    "                            & test_item_df['uid'].isin(warm_user)]\n",
    "test_user_df = test_user_df[test_user_df['uid'].isin(test_cold_user) \n",
    "                            & test_user_df['iid'].isin(warm_item)]\n",
    "test_user_item_df = test_user_item_df[test_user_item_df['uid'].isin(test_cold_user)\n",
    "                                      & test_user_item_df['iid'].isin(test_cold_item)]"
   ]
  },
  {
   "cell_type": "code",
   "execution_count": 25,
   "metadata": {},
   "outputs": [],
   "source": [
    "train.reset_index(drop=True, inplace=True)\n",
    "vali_item_df.reset_index(drop=True, inplace=True)\n",
    "vali_user_df.reset_index(drop=True, inplace=True)\n",
    "vali_user_item_df.reset_index(drop=True, inplace=True)\n",
    "test_item_df.reset_index(drop=True, inplace=True)\n",
    "test_user_df.reset_index(drop=True, inplace=True)\n",
    "test_user_item_df.reset_index(drop=True, inplace=True)"
   ]
  },
  {
   "cell_type": "code",
   "execution_count": 26,
   "metadata": {},
   "outputs": [
    {
     "name": "stdout",
     "output_type": "stream",
     "text": [
      "train\n",
      "number of user = 64129\n",
      "number of item = 12312\n",
      "number of interaction = 1549242\n",
      "####################\n",
      "vali item\n",
      "number of user = 62792\n",
      "number of item = 2051\n",
      "number of interaction = 275782\n",
      "####################\n",
      "vali user\n",
      "number of user = 10688\n",
      "number of item = 12166\n",
      "number of interaction = 258497\n",
      "####################\n",
      "vali user-item\n",
      "number of user = 10442\n",
      "number of item = 2033\n",
      "number of interaction = 45807\n",
      "####################\n",
      "test item\n",
      "number of user = 64129\n",
      "number of item = 6156\n",
      "number of interaction = 756638\n",
      "####################\n",
      "test user\n",
      "number of user = 32064\n",
      "number of item = 12312\n",
      "number of interaction = 775837\n",
      "####################\n",
      "test user-item\n",
      "number of user = 32063\n",
      "number of item = 6156\n",
      "number of interaction = 379730\n"
     ]
    }
   ],
   "source": [
    "print('train')\n",
    "print('number of user = ' + str(len(train['uid'].unique())))\n",
    "print('number of item = ' + str(len(train['iid'].unique())))\n",
    "print('number of interaction = ' + str(len(train)))\n",
    "print('#' * 20)\n",
    "print('vali item')\n",
    "print('number of user = ' + str(len(vali_item_df['uid'].unique())))\n",
    "print('number of item = ' + str(len(vali_item_df['iid'].unique())))\n",
    "print('number of interaction = ' + str(len(vali_item_df)))\n",
    "print('#' * 20)\n",
    "print('vali user')\n",
    "print('number of user = ' + str(len(vali_user_df['uid'].unique())))\n",
    "print('number of item = ' + str(len(vali_user_df['iid'].unique())))\n",
    "print('number of interaction = ' + str(len(vali_user_df)))\n",
    "print('#' * 20)\n",
    "print('vali user-item')\n",
    "print('number of user = ' + str(len(vali_user_item_df['uid'].unique())))\n",
    "print('number of item = ' + str(len(vali_user_item_df['iid'].unique())))\n",
    "print('number of interaction = ' + str(len(vali_user_item_df)))\n",
    "print('#' * 20)\n",
    "print('test item')\n",
    "print('number of user = ' + str(len(test_item_df['uid'].unique())))\n",
    "print('number of item = ' + str(len(test_item_df['iid'].unique())))\n",
    "print('number of interaction = ' + str(len(test_item_df)))\n",
    "print('#' * 20)\n",
    "print('test user')\n",
    "print('number of user = ' + str(len(test_user_df['uid'].unique())))\n",
    "print('number of item = ' + str(len(test_user_df['iid'].unique())))\n",
    "print('number of interaction = ' + str(len(test_user_df)))\n",
    "print('#' * 20)\n",
    "print('test user-item')\n",
    "print('number of user = ' + str(len(test_user_item_df['uid'].unique())))\n",
    "print('number of item = ' + str(len(test_user_item_df['iid'].unique())))\n",
    "print('number of interaction = ' + str(len(test_user_item_df)))"
   ]
  },
  {
   "cell_type": "code",
   "execution_count": 27,
   "metadata": {},
   "outputs": [],
   "source": [
    "np.random.shuffle(user_list)\n",
    "userId_old2new_list = np.zeros(np.max(user_list) + 1)\n",
    "userId_new2old_list = np.zeros_like(user_list)\n",
    "i = 0\n",
    "for u in user_list:\n",
    "    userId_old2new_list[u] = i\n",
    "    userId_new2old_list[i] = u\n",
    "    i += 1\n",
    "\n",
    "np.random.shuffle(user_list)\n",
    "itemId_old2new_list = np.zeros(np.max(item_list) + 1)\n",
    "itemId_new2old_list = np.zeros_like(item_list)\n",
    "j = 0\n",
    "for i in item_list:\n",
    "    itemId_old2new_list[i] = j\n",
    "    itemId_new2old_list[j] = i\n",
    "    j += 1"
   ]
  },
  {
   "cell_type": "code",
   "execution_count": 28,
   "metadata": {},
   "outputs": [],
   "source": [
    "train_u_array = train['uid'].values\n",
    "train_i_array = train['iid'].values\n",
    "train_u_array_new = userId_old2new_list[train_u_array]\n",
    "train_i_array_new = itemId_old2new_list[train_i_array]\n",
    "train['uid'] = train_u_array_new\n",
    "train['iid'] = train_i_array_new"
   ]
  },
  {
   "cell_type": "code",
   "execution_count": 29,
   "metadata": {},
   "outputs": [],
   "source": [
    "u_array = vali_item_df['uid'].values\n",
    "i_array = vali_item_df['iid'].values\n",
    "u_array_new = userId_old2new_list[u_array]\n",
    "i_array_new = itemId_old2new_list[i_array]\n",
    "vali_item_df['uid'] = u_array_new\n",
    "vali_item_df['iid'] = i_array_new\n",
    "\n",
    "u_array = vali_user_df['uid'].values\n",
    "i_array = vali_user_df['iid'].values\n",
    "u_array_new = userId_old2new_list[u_array]\n",
    "i_array_new = itemId_old2new_list[i_array]\n",
    "vali_user_df['uid'] = u_array_new\n",
    "vali_user_df['iid'] = i_array_new\n",
    "\n",
    "u_array = vali_user_item_df['uid'].values\n",
    "i_array = vali_user_item_df['iid'].values\n",
    "u_array_new = userId_old2new_list[u_array]\n",
    "i_array_new = itemId_old2new_list[i_array]\n",
    "vali_user_item_df['uid'] = u_array_new\n",
    "vali_user_item_df['iid'] = i_array_new\n",
    "\n",
    "u_array = test_item_df['uid'].values\n",
    "i_array = test_item_df['iid'].values\n",
    "u_array_new = userId_old2new_list[u_array]\n",
    "i_array_new = itemId_old2new_list[i_array]\n",
    "test_item_df['uid'] = u_array_new\n",
    "test_item_df['iid'] = i_array_new\n",
    "\n",
    "u_array = test_user_df['uid'].values\n",
    "i_array = test_user_df['iid'].values\n",
    "u_array_new = userId_old2new_list[u_array]\n",
    "i_array_new = itemId_old2new_list[i_array]\n",
    "test_user_df['uid'] = u_array_new\n",
    "test_user_df['iid'] = i_array_new\n",
    "\n",
    "u_array = test_user_item_df['uid'].values\n",
    "i_array = test_user_item_df['iid'].values\n",
    "u_array_new = userId_old2new_list[u_array]\n",
    "i_array_new = itemId_old2new_list[i_array]\n",
    "test_user_item_df['uid'] = u_array_new\n",
    "test_user_item_df['iid'] = i_array_new"
   ]
  },
  {
   "cell_type": "code",
   "execution_count": 30,
   "metadata": {},
   "outputs": [],
   "source": [
    "train.to_csv('./train.csv', index=False)\n",
    "vali_item_df.to_csv('./vali_item.csv', index=False)\n",
    "vali_user_df.to_csv('./vali_user.csv', index=False)\n",
    "vali_user_item_df.to_csv('./vali_user_item.csv', index=False)\n",
    "test_item_df.to_csv('./test_item.csv', index=False)\n",
    "test_user_df.to_csv('./test_user.csv', index=False)\n",
    "test_user_item_df.to_csv('./test_user_item.csv', index=False)"
   ]
  },
  {
   "cell_type": "code",
   "execution_count": 31,
   "metadata": {},
   "outputs": [],
   "source": [
    "user_content, _ = datasets.load_svmlight_file(user_content_file, zero_based=True, dtype=np.float32)\n",
    "item_content, _ = datasets.load_svmlight_file(item_content_file, zero_based=True, dtype=np.float32)"
   ]
  },
  {
   "cell_type": "code",
   "execution_count": 33,
   "metadata": {},
   "outputs": [],
   "source": [
    "import scipy.sparse\n",
    "user_content_new = user_content[userId_new2old_list]\n",
    "item_content_new = item_content[itemId_new2old_list]\n",
    "scipy.sparse.save_npz('./user_content.npz', user_content_new)\n",
    "scipy.sparse.save_npz('./item_content.npz', item_content_new)"
   ]
  },
  {
   "cell_type": "code",
   "execution_count": 34,
   "metadata": {},
   "outputs": [
    {
     "name": "stdout",
     "output_type": "stream",
     "text": [
      "(106881, 831)\n"
     ]
    }
   ],
   "source": [
    "print(user_content_new.shape)"
   ]
  },
  {
   "cell_type": "code",
   "execution_count": 35,
   "metadata": {},
   "outputs": [
    {
     "name": "stdout",
     "output_type": "stream",
     "text": [
      "(20519, 2738)\n"
     ]
    }
   ],
   "source": [
    "print(item_content_new.shape)"
   ]
  },
  {
   "cell_type": "code",
   "execution_count": 38,
   "metadata": {},
   "outputs": [],
   "source": [
    "with open('./info.pkl', 'wb') as f:\n",
    "    pickle.dump({'num_user': user_content_new.shape[0], \n",
    "                 'num_item': item_content_new.shape[0]}, f)"
   ]
  },
  {
   "cell_type": "code",
   "execution_count": null,
   "metadata": {},
   "outputs": [],
   "source": []
  }
 ],
 "metadata": {
  "kernelspec": {
   "display_name": "Python 3",
   "language": "python",
   "name": "python3"
  },
  "language_info": {
   "codemirror_mode": {
    "name": "ipython",
    "version": 3
   },
   "file_extension": ".py",
   "mimetype": "text/x-python",
   "name": "python",
   "nbconvert_exporter": "python",
   "pygments_lexer": "ipython3",
   "version": "3.7.7"
  }
 },
 "nbformat": 4,
 "nbformat_minor": 2
}
